{
 "cells": [
  {
   "cell_type": "code",
   "execution_count": null,
   "metadata": {},
   "outputs": [],
   "source": [
    "file = 24 #Change number for file to run"
   ]
  },
  {
   "cell_type": "code",
   "execution_count": null,
   "metadata": {},
   "outputs": [],
   "source": [
    "import numpy as np\n",
    "import load_data as ld\n",
    "import random\n",
    "import matplotlib.pyplot as plt\n",
    "from scipy import interpolate\n",
    "from matplotlib.pyplot import figure"
   ]
  },
  {
   "cell_type": "code",
   "execution_count": null,
   "metadata": {
    "scrolled": true
   },
   "outputs": [],
   "source": [
    "def get_odometer_path(file):\n",
    "    FR, FL, RR, RL, encoder_time  = ld.get_encoder('data/Encoders'+ str(file))\n",
    "\n",
    "    width = 733\n",
    "    data_length = len(encoder_time)\n",
    "    \n",
    "    Tic_Dist_Move = (np.pi*254)/360\n",
    "    right_wheels = np.add(FR,RR)\n",
    "    left_wheels = np.add(FL,RL)\n",
    "    right_wheels_dist = (right_wheels*Tic_Dist_Move)/2\n",
    "    left_wheels_dist  = (left_wheels*Tic_Dist_Move)/2\n",
    "    \n",
    "    Odo_Theta = np.subtract(right_wheels_dist,left_wheels_dist) / width\n",
    "    \n",
    "    for i in range(1,len(Odo_Theta)):\n",
    "        Odo_Theta[i]+=Odo_Theta[i-1]\n",
    "    \n",
    "    Move_Forward = np.add(right_wheels_dist,left_wheels_dist) / 2.0\n",
    "    Move_Direc_X = Move_Forward * np.cos(Odo_Theta)\n",
    "    Move_Direc_Y = Move_Forward * np.sin(Odo_Theta) \n",
    "\n",
    "    for i in range(1,len(Move_Direc_X)):\n",
    "        Move_Direc_X[i]+=Move_Direc_X[i-1]\n",
    "        Move_Direc_Y[i]+=Move_Direc_Y[i-1]\n",
    "    \n",
    "    X_Odo_Path = Move_Direc_X * 0.001\n",
    "    Y_Odo_Path = Move_Direc_Y * 0.001\n",
    "       \n",
    "    return X_Odo_Path, Y_Odo_Path, Odo_Theta, encoder_time"
   ]
  },
  {
   "cell_type": "code",
   "execution_count": null,
   "metadata": {},
   "outputs": [],
   "source": [
    "def match_time(Lidar, Odo_Time):\n",
    "    Lidar_Time = []\n",
    "    Lidar_Index = []\n",
    "    \n",
    "    for i in range (len(Lidar)):\n",
    "        Lidar_Time.append(Lidar[i]['t'])\n",
    "    \n",
    "    for i in range((Odo_Time).shape[0]):\n",
    "        match = np.asarray(Lidar_Time)[(np.abs(Odo_Time[i] - np.asarray(Lidar_Time))).argmin()]\n",
    "        Lidar_Index.append(int(Lidar_Time.index(match)))\n",
    "        \n",
    "    Time_Stamps = np.asarray(Lidar_Index)\n",
    "    \n",
    "    return Time_Stamps"
   ]
  },
  {
   "cell_type": "code",
   "execution_count": null,
   "metadata": {},
   "outputs": [],
   "source": [
    "def polar2cart(scan, angle, Odo_Theta):\n",
    "    X=(scan * np.cos(angle))*np.cos(Odo_Theta)-(scan * np.sin(angle))*np.sin(Odo_Theta)\n",
    "    Y=(scan * np.cos(angle))*np.sin(Odo_Theta)+(scan * np.sin(angle))*np.cos(Odo_Theta)\n",
    "    return X, Y"
   ]
  },
  {
   "cell_type": "code",
   "execution_count": null,
   "metadata": {},
   "outputs": [],
   "source": [
    "def bresenham2D(sx, sy, ex, ey):\n",
    "    sx = np.int(round(sx))\n",
    "    sy = np.int(round(sy))\n",
    "    ex = np.int(round(ex))\n",
    "    ey = np.int(round(ey))\n",
    "    dx = abs(ex-sx)\n",
    "    dy = abs(ey-sy)\n",
    "    steep = abs(dy)>abs(dx)\n",
    "    if steep:\n",
    "        dx,dy = dy,dx # swap \n",
    "    if dy == 0:\n",
    "        q = np.zeros((dx+1,1))\n",
    "    else:\n",
    "        q = np.append(0,np.greater_equal(np.diff(np.mod(np.arange( np.floor(dx/2), -dy*dx+np.floor(dx/2)-1,-dy),dx)),0))\n",
    "    if steep:\n",
    "        if sy <= ey:\n",
    "            y = np.arange(sy,ey+1)\n",
    "        else:\n",
    "            y = np.arange(sy,ey-1,-1)\n",
    "        if sx <= ex:\n",
    "            x = sx + np.cumsum(q)\n",
    "        else:\n",
    "            x = sx - np.cumsum(q)\n",
    "    else:\n",
    "        if sx <= ex:\n",
    "            x = np.arange(sx,ex+1)\n",
    "        else:\n",
    "            x = np.arange(sx,ex-1,-1)\n",
    "        if sy <= ey:\n",
    "            y = sy + np.cumsum(q)\n",
    "        else:\n",
    "            y = sy - np.cumsum(q)\n",
    "    return np.vstack((x,y)).astype(np.int)"
   ]
  },
  {
   "cell_type": "code",
   "execution_count": null,
   "metadata": {},
   "outputs": [],
   "source": [
    "def create_map(Conv_Lidar ,X_Odo_Path,Y_Odo_Path,Size,MAP):\n",
    "     \n",
    "    for i in range(len(X_Odo_Path)):\n",
    "        print(i)\n",
    "               \n",
    "        ScaleX = np.round(Conv_Lidar[i]['X']+X_Odo_Path[i],2)\n",
    "        ScaleY = np.round(Conv_Lidar[i]['Y']+Y_Odo_Path[i],2)\n",
    "        X_Pos = (ScaleX*10+Size/2).astype(np.int)\n",
    "        Y_Pos = (ScaleY*10+Size/2).astype(np.int)\n",
    "        \n",
    "        for j in range(len(X_Pos)):       \n",
    "            Stack = bresenham2D((X_Odo_Path[i]*10+Size/2),(Y_Odo_Path[i]*10+Size/2),X_Pos[j][0],Y_Pos[j][0])\n",
    "            Stack_Miss = Stack[:, 0:(Stack.shape[1]-2)]\n",
    "            Stack_Hit = Stack[:, (Stack.shape[1]-1)]\n",
    "            MissY = Stack[0,:-1]\n",
    "            MissX = Stack[1,:-1]\n",
    "            HitY = Stack[0,-1:]\n",
    "            HitX = Stack[1,-1:]\n",
    "\n",
    "            if((Stack_Miss.size > 0) and (Stack_Hit.size > 0)):\n",
    "                MAP[MissY,MissX] -= 0.1\n",
    "                MAP[HitY,HitX] += 0.5\n",
    "                \n",
    "    return MAP"
   ]
  },
  {
   "cell_type": "code",
   "execution_count": null,
   "metadata": {},
   "outputs": [],
   "source": [
    "X_Odo_Path, Y_Odo_Path, Odo_Theta, Odo_Time = get_odometer_path(file)\n",
    "\n",
    "figure(figsize=(10, 10))\n",
    "plt.plot(X_Odo_Path,Y_Odo_Path)\n",
    "plt.xlabel('X-direction (m)')\n",
    "plt.ylabel('Y-direction (m)')\n",
    "plt.title('Path for file '+str(file))\n",
    "plt.show()\n"
   ]
  },
  {
   "cell_type": "code",
   "execution_count": null,
   "metadata": {
    "scrolled": true
   },
   "outputs": [],
   "source": [
    "Lidar = ld.get_lidar('data/Hokuyo'+ str(file))\n",
    "Time_Stamps  = match_time(Lidar, Odo_Time)    \n",
    "Conv_Lidar = np.take(Lidar,Time_Stamps)\n",
    "\n",
    "for i in range((len(Time_Stamps))):\n",
    "    Lidar_Scans = np.reshape(Conv_Lidar[i]['scan'],(len(Conv_Lidar[i]['scan']),1))\n",
    "    Lidar_Angles = np.reshape(Conv_Lidar[i]['angle'],(len(Conv_Lidar[i]['angle']),1))\n",
    "    \n",
    "    Conv_Lidar[i]['X'], Conv_Lidar[i]['Y'] = polar2cart(Lidar_Scans,Lidar_Angles,Odo_Theta[i])\n",
    "    \n",
    "\n",
    "Size = 850\n",
    "MAP = np.zeros((Size,Size))\n",
    "MAP = create_map(Conv_Lidar ,X_Odo_Path,Y_Odo_Path,Size, MAP)\n",
    "\n",
    "MAP = np.where(MAP < 0, 0, MAP)\n",
    "MAP = np.where(MAP > 20, 20, MAP)\n",
    "\n",
    "convert_gray=interpolate.interp1d([-20,20],[0,255])\n",
    "gray_map = convert_gray(MAP.T)\n",
    "\n",
    "figure(figsize=(10, 10))\n",
    "plt.title('Occupancy Grid and robot path for '+ str(file))\n",
    "plt.xlabel('X-direction (m x 10)')\n",
    "plt.ylabel('Y-direction (m x 10)')\n",
    "plt.scatter(np.round(X_Odo_Path,2)*10+Size/2,np.round(Y_Odo_Path,2)*10+Size/2,s=0.1)\n",
    "plt.imshow(gray_map,cmap='gray')\n",
    "plt.show()"
   ]
  },
  {
   "cell_type": "code",
   "execution_count": null,
   "metadata": {},
   "outputs": [],
   "source": [
    "figure(figsize=(10, 10))\n",
    "plt.title('Occupancy Grid and robot path for '+ str(file))\n",
    "plt.xlabel('X-direction (m x 10)')\n",
    "plt.ylabel('Y-direction (m x 10)')\n",
    "plt.scatter(np.round(X_Odo_Path,2)*10+Size/2,np.round(Y_Odo_Path,2)*10+Size/2,s=0.1)\n",
    "plt.imshow(gray_map,cmap='gray')\n",
    "plt.show()"
   ]
  },
  {
   "cell_type": "code",
   "execution_count": null,
   "metadata": {},
   "outputs": [],
   "source": []
  },
  {
   "cell_type": "code",
   "execution_count": null,
   "metadata": {},
   "outputs": [],
   "source": []
  }
 ],
 "metadata": {
  "kernelspec": {
   "display_name": "Python 3",
   "language": "python",
   "name": "python3"
  },
  "language_info": {
   "codemirror_mode": {
    "name": "ipython",
    "version": 3
   },
   "file_extension": ".py",
   "mimetype": "text/x-python",
   "name": "python",
   "nbconvert_exporter": "python",
   "pygments_lexer": "ipython3",
   "version": "3.7.6"
  }
 },
 "nbformat": 4,
 "nbformat_minor": 2
}
